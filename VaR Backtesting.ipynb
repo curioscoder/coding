{
 "cells": [
  {
   "cell_type": "markdown",
   "id": "b1031aa3",
   "metadata": {},
   "source": [
    "Three types of backtesting of VaR:\n",
    "- **Coverage tests** assess whether the frequency of exceedances is consistent with the quantile of loss a value-at-risk measure is intended to reflect.\n",
    "- **Distribution tests** are goodness-of-fit tests applied to the overall loss distributions forecast by complete value-at-risk measures.\n",
    "- **Independence tests** assess whether results appear to be independent from one period to the next.\n",
    "\n",
    "\n",
    "**Dirty P&L’s and clean P&L’s**\n",
    "Dirty P&L’s are the actual P&L’s reported for a portfolio by the accounting system. They can be impacted by trades that take place during the value-at-risk horizon—trades the value-at-risk measure cannot anticipate. Dirty P&L’s also reflect fee income earned during the value-at-risk horizon, which value-at-risk measures also don’t anticipate. Clean P&L’s are hypothetical P&L’s that would have been realized if no trading took place and no fee income were earned during the value-at-risk horizon.\n",
    "\n",
    "https://www.youtube.com/watch?v=lc8q18FyZuU"
   ]
  },
  {
   "cell_type": "code",
   "execution_count": 163,
   "id": "35a60cc7",
   "metadata": {},
   "outputs": [
    {
     "name": "stdout",
     "output_type": "stream",
     "text": [
      "1.4125332669645552e-05 - pvalue \n",
      " critical value 3.841458820694124\n"
     ]
    }
   ],
   "source": [
    "# Coverage tests\n",
    "import numpy as np\n",
    "\n",
    "#1 Binomial test\n",
    "import pandas as pd\n",
    "data=pd.read_excel(\"Backtesting Data.xlsx\",usecols=[\"VAR\",\"Actual Loss\",\"Hypothetical Loss\"])\n",
    "exceedances=data[data[\"Actual Loss\"]>data[\"VAR\"]][\"VAR\"]\n",
    "exceedances_Actual=exceedances.count()\n",
    "maxi=0.01*500+1.96*np.sqrt(500*0.01*.99)\n",
    "mini=0.01*500-1.96*np.sqrt(500*0.01*.99)\n",
    "\n",
    "#2 Kupiec Test - unconditional coverage test\n",
    "pobs_Actual=(exceedances_Actual/500)\n",
    "pexp=.05\n",
    "n1=exceedances_Actual\n",
    "n0=500-n1\n",
    "LR=((pexp**n1)*((1-pexp)**n0))/((pobs_Actual**n1)*((1-pobs_Actual)**n0))\n",
    "p_value=1-stats.chi2.cdf(x=-2*np.log(LR),df=1)\n",
    "print(p_value,\"- pvalue \\n critical value\",stats.chi2.ppf(0.95,1))"
   ]
  },
  {
   "cell_type": "code",
   "execution_count": 177,
   "id": "a80e2bb7",
   "metadata": {},
   "outputs": [
    {
     "name": "stdout",
     "output_type": "stream",
     "text": [
      "1.0 - pvalue \n",
      " critical value 3.841458820694124\n",
      "0.0007361389991606959 - pvalue \n",
      " critical value 3.841458820694124\n"
     ]
    }
   ],
   "source": [
    "#Independence ( independence coverage tests ) \n",
    "\n",
    "#Christophersen Pelletier Test\n",
    "exceedances_index=exceedances.index.values\n",
    "n11=0\n",
    "for i in range(len(exceedances_index)-1):\n",
    "    if (exceedances_index[i+1]-exceedances_index[i])==1:\n",
    "        n11+=1\n",
    "n01=n1-n11\n",
    "n10=n1-n11\n",
    "n00=500-n01-n11\n",
    "p00=n00/500\n",
    "p01=n01/500\n",
    "p10=n10/500\n",
    "p11=n11/500\n",
    "\n",
    "LRC=pow(pobs_Actual,n1)*pow(1-pobs_Actual,n0)/pow(p01,n01)/pow(1-p01,n00)/pow(p11,n11)/pow(1-p11,n10)\n",
    "p_value=1-stats.chi2.cdf(x=-2*np.log(LRC),df=1)\n",
    "print(p_value,\"- pvalue \\n critical value\",stats.chi2.ppf(0.95,1))\n",
    "\n",
    "#Conditional coverage test\n",
    "\n",
    "LRC=pow(pexp,n1)*pow(1-pexp,n0)/pow(p01,n01)/pow(1-p01,n00)/pow(p11,n11)/pow(1-p11,n10)\n",
    "p_value=1-stats.chi2.cdf(x=-2*np.log(LRC),df=2)\n",
    "print(p_value,\"- pvalue \\n critical value\",stats.chi2.ppf(0.95,1))"
   ]
  },
  {
   "cell_type": "code",
   "execution_count": 175,
   "id": "26c3cb95",
   "metadata": {},
   "outputs": [
    {
     "data": {
      "text/plain": [
       "0.0"
      ]
     },
     "execution_count": 175,
     "metadata": {},
     "output_type": "execute_result"
    }
   ],
   "source": [
    "stats.chi2.cdf(-2*np.log(LRC),df=1)"
   ]
  },
  {
   "cell_type": "code",
   "execution_count": 176,
   "id": "dedc3194",
   "metadata": {},
   "outputs": [
    {
     "data": {
      "text/plain": [
       "0.01579077409343122"
      ]
     },
     "execution_count": 176,
     "metadata": {},
     "output_type": "execute_result"
    }
   ],
   "source": [
    "import scipy.stats as stats\n",
    "stats.chi2.ppf(q=0.1,df=1)\n"
   ]
  }
 ],
 "metadata": {
  "kernelspec": {
   "display_name": "Python 3 (ipykernel)",
   "language": "python",
   "name": "python3"
  },
  "language_info": {
   "codemirror_mode": {
    "name": "ipython",
    "version": 3
   },
   "file_extension": ".py",
   "mimetype": "text/x-python",
   "name": "python",
   "nbconvert_exporter": "python",
   "pygments_lexer": "ipython3",
   "version": "3.9.7"
  }
 },
 "nbformat": 4,
 "nbformat_minor": 5
}
