{
 "cells": [
  {
   "cell_type": "markdown",
   "id": "6d11fb68",
   "metadata": {},
   "source": [
    "# Class\n",
    "The class is a user-defined data structure that binds the data members and methods into a single unit. Class is a blueprint or code template for object creation.\n",
    "\n",
    "\n",
    "### Object: \n",
    "An object is an instance of a class. It is a collection of attributes (variables) and methods.\n",
    "\n",
    "### Parts of a class\n",
    "- **class_name**: It is the name of the class\n",
    "- **Docstring**: It is the first string inside the class and has a brief description of the class. Although not mandatory, this is highly recommended.\n",
    "- **statements**: \n",
    "    - Attributes\n",
    "    - Methods\n",
    "\n",
    "### Atrributes\n",
    "\n",
    "In Class, attributes can be defined into two parts:\n",
    "- **Instance variables**: The instance variables are attributes attached to an instance of a class. We define instance variables in the constructor ( the __init__() method of a class).\n",
    "    - Bound to the object\n",
    "    - Not shared by obects\n",
    "    - Defined witin init() method\n",
    "    - An instance attribute can be accessed or modified by using the dot notation: instance_name.attribute_name.\n",
    "- **Class Variables**: A class variable is a variable that is declared inside of class, but outside of any instance method or __init__() method.\n",
    "    - Bound to the class\n",
    "    - Shared by class\n",
    "    - Declared outisde of any method but witin the class\n",
    "    - A class variable is accessed or modified using the class name    \n",
    "    \n",
    "### Methods\n",
    "In Object-oriented programming, Inside a Class, we can define the following three types of methods.\n",
    "- **Instance method**: Used to access or modify the object state. If we use instance variables inside a method, such methods are called instance methods.\n",
    "\n",
    "- **Class method**: Used to access or modify the class state. In method implementation, if we use only class variables, then such type of methods we should declare as a class method.\n",
    "\n",
    "- **Static method**: It is a general utility method that performs a task in isolation. Inside this method, we don’t use instance or class variable because this static method doesn’t have access to the class attributes."
   ]
  },
  {
   "cell_type": "code",
   "execution_count": 15,
   "id": "c5ba6dcc",
   "metadata": {},
   "outputs": [
    {
     "name": "stdout",
     "output_type": "stream",
     "text": [
      "DAV\n"
     ]
    }
   ],
   "source": [
    "class learn:                                     #Class\n",
    "    '''learning_OOPS'''                          #Docstring\n",
    "    company_Name=\"RBS\"                           #Class Variable\n",
    "    def __init__(self,name,salary):              #Contsructor method;   \n",
    "        self.name=name                           #Instance Variable\n",
    "        self.salary=salary\n",
    "    def show(self):                              #Instance method\n",
    "        print(\"Employee Name is\",self.name,\"\\n salary is\",self.salary)\n",
    "        \n",
    "    @classmethod\n",
    "    def modify_school_name(cls, new_name):       #Class method\n",
    "       # modify class variable\n",
    "       cls.company_Name = new_name\n",
    "Obj1=learn(\"Satwik\",10)                          # create object of a class\n",
    "Obj1.salary                                      # Accessing properties and assigning values\n",
    "Obj1.company_Name.capitalize()                   # call methods\n",
    "Obj1.modify_school_name(\"DAV\")\n",
    "print(Obj1.company_Name)"
   ]
  },
  {
   "cell_type": "markdown",
   "id": "968c1e2a",
   "metadata": {},
   "source": [
    "# Constructor\n",
    "A constructor is a special method used to create and initialize an object of a class. This method is defined in the class.\n",
    "\n",
    "In Python, Object creation is divided into two parts in Object Creation and Object initialization.\n",
    "\n",
    "- Internally, the __new__ is the method that creates the object.\n",
    "\n",
    "- Using the __init__() method we can implement constructor to initialize the object.\n",
    "\n",
    "### Parts of a constructor\n",
    "- *def*: The keyword is used to define function.\n",
    "- *__init__()* Method: It is a reserved method. This method gets called as soon as an object of a class is instantiated.\n",
    "- *self* : The first argument self refers to the current object. It binds the instance to the __init__() method. It’s usually named self to follow the naming convention.\n",
    "\n",
    "Note: The __init__() method arguments are optional. We can define a constructor with any number of arguments.\n",
    "\n",
    "In Python, we have the following three types of constructors:\n",
    "    \n",
    "- **Default Constructor**\n",
    "Python will provide a default constructor if no constructor is defined. Python adds a default constructor \n",
    "when we do not include the constructor in the class or forget to declare it.\n",
    "\n",
    "- **Non-parametrized constructor**\n",
    "A constructor without any arguments is called a non-parameterized constructor. \n",
    "This type of constructor is used to initialize each object with default values.This constructor doesn’t accept \n",
    "the arguments during object creation. Instead, it initializes every object with the same set of value\n",
    "\n",
    "- **Parameterized constructor**\n",
    "A constructor with defined parameters or arguments is called a parameterized constructor. We can pass \n",
    "different values to each object at the time of creation using a parameterized constructor.\n"
   ]
  },
  {
   "cell_type": "code",
   "execution_count": 14,
   "id": "50e89c5a",
   "metadata": {},
   "outputs": [
    {
     "name": "stdout",
     "output_type": "stream",
     "text": [
      "Inside Display\n",
      "Name: PYnative Address: ABC Street\n",
      "Name: RBS Address: ABC Street\n"
     ]
    }
   ],
   "source": [
    "#Parameterized constructor\n",
    "class parcon:                                      \n",
    "    '''learning_OOPS'''                           \n",
    "    company_Name=\"RBS\"                            \n",
    "    def __init__(self,name,salary):               \n",
    "        self.name=name                            \n",
    "        self.salary=salary\n",
    "    def show(self):                               \n",
    "        print(\"Employee Name is\",self.name,\"\\n salary is\",self.salary)\n",
    "\n",
    "#Default Constructor         \n",
    "class defcon:                                      \n",
    "    def display(self):\n",
    "        print('Inside Display')\n",
    "emp = defcon()\n",
    "emp.display()\n",
    "\n",
    "#Non-parametrized constructor\n",
    "class nonparcon:\n",
    "\n",
    "    # no-argument constructor\n",
    "    def __init__(self):\n",
    "        self.name = \"PYnative\"\n",
    "        self.address = \"ABC Street\"\n",
    "\n",
    "    # a method for printing data members\n",
    "    def show(self):\n",
    "        print('Name:', self.name, 'Address:', self.address)\n",
    "\n",
    "# creating object of the class\n",
    "cmp = nonparcon()\n",
    "\n",
    "# calling the instance method using the object\n",
    "cmp.show()\n",
    "cmp.name=\"RBS\"\n",
    "cmp.show()"
   ]
  },
  {
   "cell_type": "markdown",
   "id": "d4f281e4",
   "metadata": {},
   "source": [
    "# Encapsulation \n",
    "\n",
    "Encapsulation in Python describes the concept of bundling data and methods within a single unit.\n",
    "\n",
    "**Benefits:**\n",
    "- Security: The main advantage of using encapsulation is the security of the data. Encapsulation protects an object from unauthorized access. It allows private and protected access levels to prevent accidental data modification.\n",
    "- Data Hiding: The user would not be knowing what is going on behind the scene. They would only be knowing that to modify a data member, call the setter method. To read a data member, call the getter method. What these setter and getter methods are doing is hidden from them.\n",
    "- Simplicity: It simplifies the maintenance of the application by keeping classes separated and preventing them from tightly coupling with each other.\n",
    "- Aesthetics: Bundling data and methods within a class makes code more readable and maintainable\n",
    "\n",
    "Python provides three types of access modifiers private, public, and protected.\n",
    "- **Public Member**: Accessible anywhere from outside class.All member variables of the class are by default public.\n",
    "- **Protected Member**: \n",
    "    - Accessible within the class and its sub-classes\n",
    "    - Protected data members are used when you implement inheritance and want to allow data members access to only child classes.\n",
    "- **Private Member**: \n",
    "  - Accessible within the class. \n",
    "  - To define a private variable add two underscores as a prefix at the start of a variable name.\n",
    "  - Private members are accessible only within the class, and we can’t access them directly from the class objects.\n",
    "  - We can access private members from outside of a class using the following two approaches\n",
    "    - Create public method to access private members\n",
    "    - Use name mangling\n",
    "\n",
    "We can achieve this by using single underscore and double underscores."
   ]
  },
  {
   "cell_type": "code",
   "execution_count": 16,
   "id": "2ab8dfb4",
   "metadata": {},
   "outputs": [
    {
     "name": "stdout",
     "output_type": "stream",
     "text": [
      "Name:  Jessa Salary: 10000\n"
     ]
    }
   ],
   "source": [
    "## Public method to access private members\n",
    "class Employee:\n",
    "    # constructor\n",
    "    def __init__(self, name, salary):\n",
    "        # public data member\n",
    "        self.name = name\n",
    "        # private member\n",
    "        self.__salary = salary\n",
    "\n",
    "    # public instance methods\n",
    "    def show(self):\n",
    "        # private members are accessible from a class\n",
    "        print(\"Name: \", self.name, 'Salary:', self.__salary)\n",
    "\n",
    "# creating object of a class\n",
    "emp = Employee('Jessa', 10000)\n",
    "\n",
    "# calling public method of the class\n",
    "emp.show()"
   ]
  },
  {
   "cell_type": "code",
   "execution_count": 17,
   "id": "6e8bfeb1",
   "metadata": {},
   "outputs": [
    {
     "name": "stdout",
     "output_type": "stream",
     "text": [
      "Name: Jessa\n",
      "Salary: 10000\n"
     ]
    }
   ],
   "source": [
    "## Name Mangling to access private members (emp._Employee__salary)\n",
    "class Employee:\n",
    "    # constructor\n",
    "    def __init__(self, name, salary):\n",
    "        # public data member\n",
    "        self.name = name\n",
    "        # private member\n",
    "        self.__salary = salary\n",
    "\n",
    "# creating object of a class\n",
    "emp = Employee('Jessa', 10000)\n",
    "\n",
    "print('Name:', emp.name)\n",
    "# direct access to private member using name mangling\n",
    "print('Salary:', emp._Employee__salary)"
   ]
  },
  {
   "cell_type": "markdown",
   "id": "653bd1ae",
   "metadata": {},
   "source": [
    "\n",
    "# Polimorphism\n",
    "\n",
    "Polymorphism in Python is the ability of an object to take many forms.\n",
    "Ex. The built-in function len() calculates the length of an object depending upon its type\n",
    "\n",
    "**Method Overloading**\n",
    "Using method overriding polymorphism allows us to defines methods in the child class that have the same name as the methods in the parent class. This process of re-implementing the inherited method in the child class is known as Method Overriding.\n",
    "\n",
    "Advantage of method overriding\n",
    "\n",
    "- It is effective when we want to extend the functionality by altering the inherited method. Or the method inherited from the parent class doesn’t fulfill the need of a child class, so we need to re-implement the same method in the child class in a different way.\n",
    "- Method overriding is useful when a parent class has multiple child classes, and one of that child class wants to redefine the method. The other child classes can use the parent class method. Due to this, we don’t need to modification the parent class code\n",
    "\n",
    "In polymorphism, Python first checks the object’s class type and executes the appropriate method when we call the method. For example, If you create the Car object, then Python calls the speed() method from a Car class."
   ]
  },
  {
   "cell_type": "code",
   "execution_count": 18,
   "id": "8f317b9a",
   "metadata": {},
   "outputs": [
    {
     "name": "stdout",
     "output_type": "stream",
     "text": [
      "Details: Car x1 Red 20000\n",
      "Car max speed is 240\n",
      "Car change 7 gear\n",
      "Details: Truck x1 white 75000\n",
      "Vehicle max speed is 150\n",
      "Vehicle change 6 gear\n"
     ]
    }
   ],
   "source": [
    "class Vehicle:\n",
    "\n",
    "    def __init__(self, name, color, price):\n",
    "        self.name = name\n",
    "        self.color = color\n",
    "        self.price = price\n",
    "\n",
    "    def show(self):\n",
    "        print('Details:', self.name, self.color, self.price)\n",
    "\n",
    "    def max_speed(self):\n",
    "        print('Vehicle max speed is 150')\n",
    "\n",
    "    def change_gear(self):\n",
    "        print('Vehicle change 6 gear')\n",
    "\n",
    "\n",
    "# inherit from vehicle class\n",
    "class Car(Vehicle):\n",
    "    def max_speed(self):\n",
    "        print('Car max speed is 240')\n",
    "\n",
    "    def change_gear(self):\n",
    "        print('Car change 7 gear')\n",
    "\n",
    "\n",
    "# Car Object\n",
    "car = Car('Car x1', 'Red', 20000)\n",
    "car.show()\n",
    "# calls methods from Car class\n",
    "car.max_speed()\n",
    "car.change_gear()\n",
    "\n",
    "# Vehicle Object\n",
    "vehicle = Vehicle('Truck x1', 'white', 75000)\n",
    "vehicle.show()\n",
    "# calls method from a Vehicle class\n",
    "vehicle.max_speed()\n",
    "vehicle.change_gear()"
   ]
  },
  {
   "cell_type": "markdown",
   "id": "bf42e53f",
   "metadata": {},
   "source": [
    "**Overrride Built-in Functions**\n",
    "In Python, we can change the default behavior of the built-in functions. For example, we can change or extend the built-in functions such as len(), abs(), or divmod() by redefining them in our class. Let’s see the example."
   ]
  },
  {
   "cell_type": "code",
   "execution_count": 20,
   "id": "c4f905de",
   "metadata": {},
   "outputs": [
    {
     "name": "stdout",
     "output_type": "stream",
     "text": [
      "Redefine length\n",
      "4\n"
     ]
    }
   ],
   "source": [
    "class Shopping:\n",
    "    def __init__(self, basket, buyer):\n",
    "        self.basket = list(basket)\n",
    "        self.buyer = buyer\n",
    "\n",
    "    def __len__(self):\n",
    "        print('Redefine length')\n",
    "        count = len(self.basket)\n",
    "        # count total items in a different way\n",
    "        # pair of shoes and shir+pant\n",
    "        return count * 2\n",
    "\n",
    "shopping = Shopping(['Shoes', 'dress'], 'Jessa')\n",
    "print(len(shopping))\n"
   ]
  },
  {
   "cell_type": "markdown",
   "id": "57208e2d",
   "metadata": {},
   "source": [
    "**Overloading Operator**\n",
    "\n",
    "Chnaging the behaviour of operands like + * etc\n",
    "Operator overloading means changing the default behavior of an operator depending on the operands (values) that we use. In other words, we can use the same operator for multiple purposes."
   ]
  },
  {
   "cell_type": "code",
   "execution_count": 23,
   "id": "ad97deca",
   "metadata": {},
   "outputs": [
    {
     "name": "stdout",
     "output_type": "stream",
     "text": [
      "Total number of pages:  700\n"
     ]
    }
   ],
   "source": [
    "'+'\n",
    "class Book:\n",
    "    def __init__(self, pages):\n",
    "        self.pages = pages\n",
    "\n",
    "    # Overloading + operator with magic method\n",
    "    def __add__(self, other):\n",
    "        return self.pages + other.pages\n",
    "\n",
    "b1 = Book(400)\n",
    "b2 = Book(300)\n",
    "print(\"Total number of pages: \", b1 + b2)\n"
   ]
  },
  {
   "cell_type": "markdown",
   "id": "7f29e25f",
   "metadata": {},
   "source": [
    "### Operator overloading types\n",
    "Operator Name\tSymbol\tMagic method\n",
    "\n",
    "Addition\t+\t__add__(self, other)\n",
    "\n",
    "Subtraction\t-\t__sub__(self, other)\n",
    "\n",
    "Multiplication\t*\t__mul__(self, other)\n",
    "\n",
    "Division\t/\t__div__(self, other)\n",
    "\n",
    "Floor Division\t//\t__floordiv__(self,other)\n",
    "\n",
    "Modulus\t%\t__mod__(self, other)\n",
    "\n",
    "Power\t**\t__pow__(self, other)\n",
    "\n",
    "Increment\t+=\t__iadd__(self, other)\n",
    "\n",
    "Decrement\t-=\t__isub__(self, other)\n",
    "\n",
    "Product\t*=\t__imul__(self, other)\n",
    "\n",
    "Division\t/+\t__idiv__(self, other)\n",
    "\n",
    "Modulus\t%=\t__imod__(self, other)\n",
    "\n",
    "Power\t**=\t__ipow__(self, other)\n",
    "\n",
    "Less than\t<\t__lt__(self, other)\n",
    "\n",
    "Greater than\t>\t__gt__(self, other)\n",
    "\n",
    "Less than or equal to\t<=\t__le__(self, other)\n",
    "\n",
    "Greater than or equal to\t>=\t__ge__(self, other)\n",
    "\n",
    "Equal to\t==\t__eq__(self, other)\n",
    "\n",
    "Not equal\t!=\t__ne__(self, other)"
   ]
  },
  {
   "cell_type": "code",
   "execution_count": null,
   "id": "376d2f02",
   "metadata": {},
   "outputs": [],
   "source": []
  }
 ],
 "metadata": {
  "kernelspec": {
   "display_name": "Python 3 (ipykernel)",
   "language": "python",
   "name": "python3"
  },
  "language_info": {
   "codemirror_mode": {
    "name": "ipython",
    "version": 3
   },
   "file_extension": ".py",
   "mimetype": "text/x-python",
   "name": "python",
   "nbconvert_exporter": "python",
   "pygments_lexer": "ipython3",
   "version": "3.9.7"
  }
 },
 "nbformat": 4,
 "nbformat_minor": 5
}
