{
 "cells": [
  {
   "cell_type": "code",
   "execution_count": null,
   "id": "0ed46c3c",
   "metadata": {},
   "outputs": [],
   "source": [
    "'''Class and object'''                \n",
    "                \n",
    "class learn:                                      #Class\n",
    "    '''learning_OOPS'''                           #Docstring\n",
    "    company_Name=\"RBS\"                            #Class Variable\n",
    "    def __init__(self,name,salary):               #Contsructor method;   \n",
    "        self.name=name                            #Instance Variable\n",
    "        self.salary=salary\n",
    "    def show(self):                               #Instance method\n",
    "        print(\"Employee Name is\",self.name,\"\\n salary is\",self.salary)\n",
    "        \n",
    "    @classmethod\n",
    "    def modify_school_name(cls, new_name):\n",
    "       # modify class variable\n",
    "       cls.school_name = new_name\n",
    "Obj1=learn(\"Satwik\",10)                          # create object of a class\n",
    "Obj1.salary                                      # Accessing properties and assigning values\n",
    "Obj1.company_Name.capitalize()                   # call methods\n",
    "\n",
    "\n"
   ]
  }
 ],
 "metadata": {
  "kernelspec": {
   "display_name": "Python 3 (ipykernel)",
   "language": "python",
   "name": "python3"
  },
  "language_info": {
   "codemirror_mode": {
    "name": "ipython",
    "version": 3
   },
   "file_extension": ".py",
   "mimetype": "text/x-python",
   "name": "python",
   "nbconvert_exporter": "python",
   "pygments_lexer": "ipython3",
   "version": "3.9.7"
  }
 },
 "nbformat": 4,
 "nbformat_minor": 5
}
