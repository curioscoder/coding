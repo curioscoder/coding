{
 "cells": [
  {
   "cell_type": "code",
   "execution_count": null,
   "id": "26da93f4",
   "metadata": {},
   "outputs": [],
   "source": [
    "Class: The class is a user-defined data structure that binds the data members and methods into a single unit. \n",
    "       Class is a blueprint or code template for object creation.\n",
    "Object: An object is an instance of a class. It is a collection of attributes (variables) and methods. "
   ]
  },
  {
   "cell_type": "code",
   "execution_count": 1,
   "id": "0ed46c3c",
   "metadata": {},
   "outputs": [
    {
     "data": {
      "text/plain": [
       "'Rbs'"
      ]
     },
     "execution_count": 1,
     "metadata": {},
     "output_type": "execute_result"
    }
   ],
   "source": [
    "class learn:                                      #Class\n",
    "    '''learning_OOPS'''                           #Docstring\n",
    "    company_Name=\"RBS\"                            #Class Variable\n",
    "    def __init__(self,name,salary):               #Contsructor method;   \n",
    "        self.name=name                            #Instance Variable\n",
    "        self.salary=salary\n",
    "    def show(self):                               #Instance method\n",
    "        print(\"Employee Name is\",self.name,\"\\n salary is\",self.salary)\n",
    "        \n",
    "    @classmethod\n",
    "    def modify_school_name(cls, new_name):\n",
    "       # modify class variable\n",
    "       cls.school_name = new_name\n",
    "Obj1=learn(\"Satwik\",10)                          # create object of a class\n",
    "Obj1.salary                                      # Accessing properties and assigning values\n",
    "Obj1.company_Name.capitalize()                   # call methods"
   ]
  },
  {
   "cell_type": "code",
   "execution_count": null,
   "id": "e95f0083",
   "metadata": {},
   "outputs": [],
   "source": [
    "# Constructor\n",
    "A constructor is a special method used to create and initialize an object of a class. This method is defined in the class.\n",
    "\n",
    "In Python, Object creation is divided into two parts in Object Creation and Object initialization\n",
    "\n",
    "Internally, the __new__ is the method that creates the object\n",
    "And, using the __init__() method we can implement constructor to initialize the object."
   ]
  }
 ],
 "metadata": {
  "kernelspec": {
   "display_name": "Python 3 (ipykernel)",
   "language": "python",
   "name": "python3"
  },
  "language_info": {
   "codemirror_mode": {
    "name": "ipython",
    "version": 3
   },
   "file_extension": ".py",
   "mimetype": "text/x-python",
   "name": "python",
   "nbconvert_exporter": "python",
   "pygments_lexer": "ipython3",
   "version": "3.9.7"
  }
 },
 "nbformat": 4,
 "nbformat_minor": 5
}
